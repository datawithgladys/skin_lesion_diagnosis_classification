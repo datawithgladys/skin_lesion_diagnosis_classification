{
 "cells": [
  {
   "cell_type": "markdown",
   "metadata": {},
   "source": [
    "## Deployment of Diagnosis Model"
   ]
  },
  {
   "cell_type": "code",
   "execution_count": 3,
   "metadata": {},
   "outputs": [],
   "source": [
    "#import libraries\n",
    "import keras\n",
    "import tensorflow as tf\n",
    "from keras.preprocessing import image\n",
    "import json\n",
    "import requests\n",
    "import pandas as pd\n",
    "import numpy as np\n",
    "from keras.models import Sequential\n",
    "from keras.layers import Dense, Dropout, Activation, Conv2D, MaxPooling2D, GlobalMaxPooling2D, BatchNormalization\n",
    "from keras.callbacks import ReduceLROnPlateau, ModelCheckpoint\n",
    "from keras.metrics import top_k_categorical_accuracy\n",
    "from keras.models import load_model\n",
    "from keras.optimizers import Adam"
   ]
  },
  {
   "cell_type": "code",
   "execution_count": 2,
   "metadata": {},
   "outputs": [
    {
     "name": "stdout",
     "output_type": "stream",
     "text": [
      "2.2.0\n"
     ]
    }
   ],
   "source": [
    "#need to downgrade to 2.2.0 at the moment so that the model accuracy is the same\n",
    "#saving model doesn't seem to work on tf ver. 2.3.1\n",
    "\n",
    "#!pip install 'tensorflow == 2.2.0'\n",
    "print(tf.__version__)"
   ]
  },
  {
   "cell_type": "markdown",
   "metadata": {},
   "source": [
    "## Saving Model"
   ]
  },
  {
   "cell_type": "code",
   "execution_count": 3,
   "metadata": {},
   "outputs": [],
   "source": [
    "#load model 4b\n",
    "model_4b = load_model('../model/diagnosis_classifier/4b_smote_model_cnn.h5') "
   ]
  },
  {
   "cell_type": "code",
   "execution_count": 4,
   "metadata": {},
   "outputs": [],
   "source": [
    "#loading our 4b model's best weights\n",
    "model_4b.load_weights(\"../weights/diagnosis/weights-improvement-24-0.76.hdf5\")"
   ]
  },
  {
   "cell_type": "code",
   "execution_count": null,
   "metadata": {},
   "outputs": [],
   "source": [
    "#save version 1 of model 4b\n",
    "model_4b.save('../deployment/diagnosis/1')"
   ]
  },
  {
   "cell_type": "markdown",
   "metadata": {},
   "source": [
    "Deployment of the model is done through Tensorflow Serving on Docker. Installation of Docker is required."
   ]
  },
  {
   "cell_type": "raw",
   "metadata": {},
   "source": [
    "#run this in terminal\n",
    "\n",
    "#docker pull tensorflow/serving\n",
    "#docker run -p 8501:8501 --name diagnosis_server --mount type=bind,source=/Users/JustLikeThis/Capstone_Project/deployment/diagnosis,target=/models/diagnosis  -e MODEL_NAME=diagnosis -t tensorflow/serving &"
   ]
  },
  {
   "cell_type": "markdown",
   "metadata": {},
   "source": [
    "### Importing image and its label to put into model"
   ]
  },
  {
   "cell_type": "code",
   "execution_count": 4,
   "metadata": {},
   "outputs": [],
   "source": [
    "images = []\n",
    "img = image.load_img('../datasets/processed_image/ISIC_0024356.jpg', target_size=(284, 284))\n",
    "img_array = image.img_to_array(img)\n",
    "img = img_array/255\n",
    "images.append(img)\n",
    "x = np.array(images)"
   ]
  },
  {
   "cell_type": "code",
   "execution_count": 5,
   "metadata": {},
   "outputs": [],
   "source": [
    "#load in labeled_ground_truth\n",
    "testing_labels = pd.read_csv('../datasets/deployment/testing_labels.csv')"
   ]
  },
  {
   "cell_type": "code",
   "execution_count": 6,
   "metadata": {},
   "outputs": [],
   "source": [
    "#create list of columns to be excluded from target variables y\n",
    "columns_dropped = [x for x in testing_labels.columns if x not in ['benign', 'malignant', 'precancerous']]\n",
    "\n",
    "#create y that contains all 3 target variables/classes\n",
    "y = np.array(testing_labels.drop(columns = columns_dropped))"
   ]
  },
  {
   "cell_type": "code",
   "execution_count": 7,
   "metadata": {},
   "outputs": [
    {
     "data": {
      "text/plain": [
       "array([0])"
      ]
     },
     "execution_count": 7,
     "metadata": {},
     "output_type": "execute_result"
    }
   ],
   "source": [
    "y_true = np.argmax(y, axis=1)\n",
    "y_true"
   ]
  },
  {
   "cell_type": "markdown",
   "metadata": {},
   "source": [
    "### Running the server"
   ]
  },
  {
   "cell_type": "code",
   "execution_count": 8,
   "metadata": {},
   "outputs": [
    {
     "name": "stdout",
     "output_type": "stream",
     "text": [
      "[[0.912082434, 0.0831930488, 0.00472460641]]\n",
      "The model predicted this was a benign (class 0)\n",
      "It was actually benign (class 0)\n"
     ]
    }
   ],
   "source": [
    "data = json.dumps({\"instances\": x.tolist()})\n",
    "class_names = ['benign', 'malignant', 'precancerous']\n",
    "headers = {\"content-type\": \"application/json\"}\n",
    "\n",
    "json_response = requests.post('http://localhost:8501/v1/models/diagnosis:predict',\n",
    "                              data=data,\n",
    "                              headers=headers)\n",
    "\n",
    "predictions = json.loads(json_response.text)['predictions']\n",
    "print(predictions)\n",
    "\n",
    "\n",
    "print('The model predicted this was a {} (class {})'.format(class_names[np.argmax(predictions)], np.argmax(predictions)))\n",
    "print('It was actually {} (class {})'.format(class_names[int(y_true)], int(y_true)))"
   ]
  },
  {
   "cell_type": "code",
   "execution_count": null,
   "metadata": {},
   "outputs": [],
   "source": []
  }
 ],
 "metadata": {
  "kernelspec": {
   "display_name": "Python 3",
   "language": "python",
   "name": "python3"
  },
  "language_info": {
   "codemirror_mode": {
    "name": "ipython",
    "version": 3
   },
   "file_extension": ".py",
   "mimetype": "text/x-python",
   "name": "python",
   "nbconvert_exporter": "python",
   "pygments_lexer": "ipython3",
   "version": "3.8.3"
  }
 },
 "nbformat": 4,
 "nbformat_minor": 4
}
